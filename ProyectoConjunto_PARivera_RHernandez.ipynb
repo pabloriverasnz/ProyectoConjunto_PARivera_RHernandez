{
 "cells": [
  {
   "cell_type": "markdown",
   "metadata": {},
   "source": [
    "<img style=\"float: left; margin: 30px 15px 15px 15px;\" src=\"https://pngimage.net/wp-content/uploads/2018/06/logo-iteso-png-5.png\" width=\"300\" height=\"500\" /> \n",
    "    \n",
    "    \n",
    "### <font color='navy'> Simulación de procesos financieros. \n",
    "\n",
    "**Nombres:** Pablo Alejandro Rivera Sánchez, Rubén Hernández Guevara\n",
    "\n",
    "**Fecha:** 28 de enero del 2021.\n",
    "\n",
    "**Expediente** : 721005, 717710 .\n",
    "**Profesor:** Oscar David Jaramillo Zuluaga.\n",
    "\n",
    "# Tarea 1: Clase 2"
   ]
  },
  {
   "cell_type": "markdown",
   "metadata": {},
   "source": [
    "## Enunciado de tarea (Transcibirlo)\n",
    "1.  El archivo debe realizarse en parejas y sólo uno de los dos debe crear en su cuenta de *Github* un repositorio con el nombre **ProyectoConjunto\\_APELLIDO1\\_APELLIDO2**. A la persona que creó el repositorio la llamaremos (ESTUDIANTE 1 ). El APELLIDO se debe de escribir (Iniciales del nombre y primer apellido), por ejemplo si yo creara el archivo lo debería de nombrar *ProyectoConjunto\\_ODJaramillo*. \n",
    "1.  Posteriormente, desde la cuenta del (ESTUDIANTE 2), 'aquel que no creó el repositorio anterior', ingresar al perfil del ESTUDIANTE 1 y en el repositorio creado en el paso 1, realizar un \"fork\" de este repositorio en su perfil, y además realizar los pasos en Gitkraken para hacer dicho repositorio \"Remoto (REMOTE)\" VER DICHO PROCEDIMIENTO EN LA CLASE **Clase2_GitTurorial2**.\n",
    "1.  Luego de realizados los pasos 1 y 2, el ESTUDIANTE 1 y ESTUDIANTE 2, desde su computador realizar un *clone* del repositorio creado en el numeral 1 en la carpeta que cada quién haya asignado para el curso en su computador. \n",
    "1.  Luego desde Jupyter el ESTUDIANTE 1, crea un nuevo ``notebook`` en el repositorio del paso 3. \n",
    "1.  En este nuevo notebook el ESTUDIANTE 1 y ESTUDIANTE 2, deben realizar una presentación describiendo sus expectativas del curso y la transcipción de la Figura 1 y Figura 2 respectivamente, haciendo uso de la sintaxis Markdown. Recuerden definir unas celdas donde cada usuario modificará el cuaderno de python para evitar futuros conflictos. \n",
    "6. Cuando ya se encuentre el proyecto conjunto con la información del ESTUDIANTE 1 y ESTUDIANTE 2, el ``ESTUDIANTE 2``  debe de realizar un `pull request` con las modificaciones realizadas a el `ESTUDIANTE 1` para que este realice un merge a la rama `master`, con las moficaciones propuestas por el `ESTUDIANTE 2`, TAL Y CÓMO SE REALIZÓ EN CLASE. (Recuerden que los pull request se generan en *Gitkraken* y se administran los comentarios o cambios propuestos por su compañero desde *Github* ver `Clase1_GitTurorial` para aclaración de dudas, donde se explica cómo crear *branch y pull request*)\n",
    "7. Luego de culminado los pasos anteriores, el ESTUDIANTE 1,realizará un programa que imprima la serie de fibonacci para sus primeros 100 términos en un array de python,usando la rama “master” del repositorio creado. Por otro lado, el ESTUDIANTE 2,creando un “branch” llamado `ejerPrograma`, generará un programa que muestre los números primos del 0-100. Luego de que el ESTUDIANTE 2 haya terminado su programa, debe de realizar un “pull request” al ESTUDIANTE 1, **ANTES** de hacer un “merge” de la rama `ejerPrograma` en el proyecto principal (“master”). Luego de realizado estos pasos **NO BORRAR LA RAMA CREADA (`ejerPrograma`)**"
   ]
  },
  {
   "cell_type": "markdown",
   "metadata": {},
   "source": [
    "### Ejercicio 1: Presentación y expectativas del curso"
   ]
  },
  {
   "cell_type": "markdown",
   "metadata": {},
   "source": [
    "##### Pablo"
   ]
  },
  {
   "cell_type": "markdown",
   "metadata": {},
   "source": [
    "Las espectativas que tengo para el curso son las siguientes:\n",
    "> * Mejorar mis habilidades de programación.\n",
    "> * Adquirir todos los conocimientos esperados planteados de la materia. \n",
    "> * A pesar de que he escuchado que es un poco pesado, espero disfrutarla y divertirme a la hora de realizar todos los códigos. \n",
    "> * Que todas las clases y temas me queden claros y, en caso de que no, poder resolver mis dudas fácilmente."
   ]
  },
  {
   "cell_type": "markdown",
   "metadata": {},
   "source": [
    "##### Rubén"
   ]
  },
  {
   "cell_type": "markdown",
   "metadata": {},
   "source": [
    "> * ***Que la clase sea dinámica***\n",
    "> * ***Que la asignación de tiempos (tareas, exámenes, etc.) sea justa :c***\n",
    "> * ***Disponibilidad del profe***\n",
    "> * ***Clases bien planeadas***\n",
    "> * ***Que la materia no me robe el alma xd***"
   ]
  },
  {
   "cell_type": "markdown",
   "metadata": {},
   "source": [
    "### Ejercicio 2: Transcripciones "
   ]
  },
  {
   "cell_type": "markdown",
   "metadata": {},
   "source": [
    "##### Pablo"
   ]
  },
  {
   "cell_type": "markdown",
   "metadata": {},
   "source": [
    "\n",
    "\n",
    "| $i$ |   $x$  |  $f(x)$  |\n",
    "|:-:|:----:|:------:|\n",
    "| 0 |  -1  | 0.3678 |\n",
    "| <span style=\"color:red\">1</span> | <span style=\"color:red\">-0.5</span> | <span style=\"color:red\">0.7788</span> |\n",
    "| <span style=\"color:blue\">2</span> | <span style=\"color:blue\">-0</span> | <span style=\"color:blue\">1</span> |\n",
    "| <span style=\"color:red\">3</span> | <span style=\"color:red\">-0.5</span> | <span style=\"color:red\">0.7788</span> |\n",
    "| 4 |   1  | 0.3678 |\n",
    "\n",
    "<br>\n",
    "<span style=\"font-family:Times New Roman; font-size:1.2em;\">\n",
    "<div align=\"center\"> Cuadro 1: Tabla de valores de $f(x)$ </div>\n",
    "    \n",
    "<br>    \n",
    "    \n",
    "$$\n",
    "\\begin{split}\n",
    "\\int_{-1}^{1} e^{-x^{2}} dx & \\approx \\frac{0.5}{3} [f(-1) + f(1) + 4(\\color{red} {f(-0.5 + f(0.5)}) + 2\\color{blue} {f(0)}] \\\\\n",
    "& \\approx \\frac{0.5}{3} [0.3678 + 0.3678 + 4(\\color{red} {0.7788 + 0.7788}) + 2 \\cdot \\color{blue} {1}] \\approx 1.4943\n",
    "\\end{split}\n",
    "$$\n",
    "\n",
    "<br>\n",
    "<div style='text-align: justify; width:720px; margin:0 auto'> &emsp; A modo de verificación, se calculará por software, el valor del área para $n = 100$, un valor mucho más elevado al que se utilizó anteriormente. Si lo calculado previamente es correcto, se esperaría que sea próximo al valor presentado a continuación para ser una buena aproximación. </div>\n",
    "\n",
    "$$\n",
    "\\int_{-1}^{1} e^{-x^{2}} dx \\approx 1.4936\n",
    "$$\n",
    "\n",
    "</span>"
   ]
  },
  {
   "cell_type": "markdown",
   "metadata": {},
   "source": [
    "##### Rubén "
   ]
  },
  {
   "cell_type": "markdown",
   "metadata": {},
   "source": [
    "| i     \t| 1   \t| 2   \t| 3   \t|  4  \t| 5 \t| 6 \t| 7  \t|   \t|\n",
    "|-------\t|-----\t|-----\t|-----\t|:---:\t|---\t|---\t|----\t|---\t|\n",
    "| $$E_i(V)$$ \t| 12  \t| 10  \t| 24  \t| 12  \t| - \t| - \t| -  \t|   \t|\n",
    "| $$r_i(\\Omega)$$ \t| 0.1 \t| 0.5 \t| 0.2 \t| 0.5 \t| - \t| - \t| -  \t|   \t|\n",
    "| $$R_i(\\Omega)$$ \t| 25  \t| 40  \t| 16  \t| 20  \t| 9 \t| 4 \t| 20 \t|   \t|"
   ]
  },
  {
   "cell_type": "markdown",
   "metadata": {},
   "source": [
    "<span style=\"font-family:Times New Roman; font-size:1.2em;\">\n",
    "<font color = #2596be>\n",
    "\n",
    "&emsp; Kemna y Vorst (1990) </font> muestran que las opciones asiáticas con media geométrica continua se pueden valuar con el mismo enfoque de las opciones plain vanilla; solo se deben cambiar los parámetros de volatilidad $\\sigma$ por $\\sigma_a$, y el costo de acarreo $b$ por $b_A$. <br>\n",
    "&emsp; De acuerdo con Kemna y Vorst, las fórmulas para evaluar una opción de compra y una opción de venta son:\n",
    "  \n",
    "&emsp;&emsp;&ensp; $ c \\approx S_t e^{(b_A - r)(T-t)}\\phi(d_1) - Ke^{r(T-t)}\\phi(d_2),$\n",
    "\n",
    "<div align=\"right\"> (3)\n",
    "    \n",
    "&emsp;&emsp;&ensp; $ p \\approx Ke^{-r(T-t)}\\phi(-d_2) - S_t e^{(b_A -r)(T-t)}\\phi(-d_1).$\n",
    "    \n",
    "con $d_1$ y $d_2$ dados por:\n",
    "    \n",
    "&emsp;&emsp;&ensp; $ d_1 = \\frac{ln(S_t /K) + (b_A + 1/2\\sigma^2_a)(T-t)}{\\sigma \\sqrt{T-t}},$\n",
    "\n",
    "<div align=\"right\"> (4)\n",
    "    \n",
    "&emsp;&emsp;&ensp; $ d_2 = d_1 - \\sigma_a \\sqrt{T-t}$\n",
    "    \n",
    "La función $\\phi(d)$ es la función de distribución acumulada de $E\\sim \\mathcal{N}(0,1)$. La volatilidad ajustada es igual a:\n",
    "    \n",
    "&emsp;&emsp;&ensp; $ \\sigma_a = \\frac{\\sigma}{\\sqrt{3}},$\n",
    "    \n",
    "mientras que el costo de acarreo ajustado es:\n",
    "\n",
    "&emsp;&emsp;&ensp; $ b_A = \\frac{1}{2}(v - \\frac{\\sigma^2}{6})$\n",
    "   \n",
    "</span>"
   ]
  },
  {
   "cell_type": "markdown",
   "metadata": {},
   "source": [
    "### Ejercicio 3: Programas "
   ]
  },
  {
   "cell_type": "markdown",
   "metadata": {},
   "source": [
    "##### Pablo\n",
    "##### Generar un programa que imprima la serie de Fibonacci para sus primeros 100 términos en un array de Python."
   ]
  },
  {
   "cell_type": "code",
   "execution_count": null,
   "metadata": {},
   "outputs": [],
   "source": []
  },
  {
   "cell_type": "markdown",
   "metadata": {},
   "source": [
    "### Respuesta planteada en el ejercicio usando (markdown)\n",
    " La respuesta es ........."
   ]
  },
  {
   "cell_type": "markdown",
   "metadata": {},
   "source": [
    "##### Rubén\n",
    "##### Generar un programa que muestre los número primos del 0-100."
   ]
  },
  {
   "cell_type": "code",
   "execution_count": 1,
   "metadata": {},
   "outputs": [
    {
     "name": "stdout",
     "output_type": "stream",
     "text": [
      "2\n",
      "3\n",
      "5\n",
      "7\n",
      "11\n",
      "13\n",
      "17\n",
      "19\n",
      "23\n",
      "29\n",
      "31\n",
      "37\n",
      "41\n",
      "43\n",
      "47\n",
      "53\n",
      "59\n",
      "61\n",
      "67\n",
      "71\n",
      "73\n",
      "79\n",
      "83\n",
      "89\n",
      "97\n"
     ]
    }
   ],
   "source": [
    "for i in range(1,101):\n",
    "    x = 0\n",
    "    for j in range(2,i):\n",
    "        if i%j == 0:\n",
    "            x += 1\n",
    "    if i != 1 and x == 0:\n",
    "        print(i)"
   ]
  },
  {
   "cell_type": "markdown",
   "metadata": {},
   "source": [
    "### Respuesta planteada en el ejercicio usando (markdown)\n",
    "> La solución está en implementar ciclos for (2) y establecer un contador, así se puede iterar sobre el rango establecido (2-101) y revisar uno por uno si cumple con el criterio de ser primo, gracias al % y al contador, este funciona de manera intermitente siendo x = 0 y que i != 1 el criterio para que se muestre un número primo."
   ]
  }
 ],
 "metadata": {
  "kernelspec": {
   "display_name": "Python 3",
   "language": "python",
   "name": "python3"
  },
  "language_info": {
   "codemirror_mode": {
    "name": "ipython",
    "version": 3
   },
   "file_extension": ".py",
   "mimetype": "text/x-python",
   "name": "python",
   "nbconvert_exporter": "python",
   "pygments_lexer": "ipython3",
   "version": "3.8.5"
  }
 },
 "nbformat": 4,
 "nbformat_minor": 2
}
